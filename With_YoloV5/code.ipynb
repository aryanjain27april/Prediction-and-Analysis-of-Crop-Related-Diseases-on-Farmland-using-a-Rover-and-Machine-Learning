{
 "cells": [
  {
   "cell_type": "code",
   "execution_count": 1,
   "metadata": {},
   "outputs": [],
   "source": [
    "import torch"
   ]
  },
  {
   "cell_type": "code",
   "execution_count": 3,
   "metadata": {},
   "outputs": [
    {
     "name": "stdout",
     "output_type": "stream",
     "text": [
      "True\n"
     ]
    }
   ],
   "source": [
    "print(torch.cuda.is_available())"
   ]
  },
  {
   "cell_type": "code",
   "execution_count": 1,
   "metadata": {},
   "outputs": [
    {
     "name": "stdout",
     "output_type": "stream",
     "text": [
      "Name: tensorflow-gpu\n",
      "Version: 2.5.0\n",
      "Summary: TensorFlow is an open source machine learning framework for everyone.\n",
      "Home-page: https://www.tensorflow.org/\n",
      "Author: Google Inc.\n",
      "Author-email: packages@tensorflow.org\n",
      "License: Apache 2.0\n",
      "Location: d:\\conda\\envs\\rover_yolov5\\lib\\site-packages\n",
      "Requires: astunparse, google-pasta, flatbuffers, h5py, absl-py, termcolor, protobuf, numpy, typing-extensions, tensorboard, opt-einsum, six, keras-nightly, grpcio, wrapt, keras-preprocessing, tensorflow-estimator, wheel, gast\n",
      "Required-by: \n",
      "Note: you may need to restart the kernel to use updated packages.\n"
     ]
    }
   ],
   "source": [
    "%pip show tensorflow-gpu\n",
    "#%pip install torch==1.8.1 torchvision==0.9.1 torchaudio==0.8.1\n",
    "# %pip install tensorboard==2.4.1\n",
    "# %pip install setuptools==59.5.0\n",
    "# %pip install IProgress\n",
    "# %pip install tqdm\n",
    "# %pip install --upgrade ipywidgets\n"
   ]
  },
  {
   "cell_type": "code",
   "execution_count": 3,
   "metadata": {},
   "outputs": [],
   "source": [
    "#%git clone https://github.com/ultralytics/yolov5\n",
    "# %cd yolov5\n",
    "# %pip install -r requirements.txt"
   ]
  },
  {
   "cell_type": "code",
   "execution_count": 4,
   "metadata": {},
   "outputs": [],
   "source": [
    "# %pip install pandas\n",
    "# %pip install opencv-python\n",
    "# %pip install matplotlib\n",
    "# %pip install seaborn\n",
    "# %pip install wandb"
   ]
  },
  {
   "cell_type": "code",
   "execution_count": 7,
   "metadata": {},
   "outputs": [],
   "source": [
    "import torch\n",
    "from IPython.display import Image\n",
    "from tqdm import tqdm\n",
    "import IProgress\n",
    "from ipywidgets import IntProgress\n",
    "import os"
   ]
  },
  {
   "cell_type": "code",
   "execution_count": 2,
   "metadata": {},
   "outputs": [
    {
     "data": {
      "text/plain": [
       "2"
      ]
     },
     "execution_count": 2,
     "metadata": {},
     "output_type": "execute_result"
    }
   ],
   "source": [
    "os.system('python rrr.py')"
   ]
  },
  {
   "cell_type": "code",
   "execution_count": 2,
   "metadata": {},
   "outputs": [
    {
     "name": "stdout",
     "output_type": "stream",
     "text": [
      "x before changing y ['1', 2]\n",
      "y before changing y ['1', 2]\n",
      "x before changing y ['1', 2, 3]\n",
      "y before changing y ['1', 2, 3]\n"
     ]
    }
   ],
   "source": [
    "y=['1',2]\n",
    "x=y\n",
    "print('x before changing y',x)\n",
    "print('y before changing y',y)\n",
    "\n",
    "y.append(3)\n",
    "print('x before changing y',x)\n",
    "print('y before changing y',y)\n"
   ]
  },
  {
   "cell_type": "code",
   "execution_count": 6,
   "metadata": {},
   "outputs": [
    {
     "name": "stderr",
     "output_type": "stream",
     "text": [
      "UsageError: Line magic function `%dir` not found.\n"
     ]
    }
   ],
   "source": [
    "# # Transfer Learning \n",
    "# %python train.py --img 416  --batch 16 --epochs 200 --data dataset.yml --weights yolov5s.pt --cache\n",
    "\n",
    "# # Train From Scratch\n",
    "# %python train.py --img 416  --batch 16 --epochs 200 --data dataset.yaml --weights ''"
   ]
  },
  {
   "cell_type": "code",
   "execution_count": 3,
   "metadata": {},
   "outputs": [],
   "source": [
    "# %load_ext tensorboard\n",
    "# %tensorboard --logdir runs"
   ]
  },
  {
   "cell_type": "code",
   "execution_count": null,
   "metadata": {},
   "outputs": [],
   "source": [
    "#!python D:\\8th_Sem_Proj\\Dataset\\8th_Sem_Proj\\With_YoloV5\\yolov5\\detect.py --weights D:\\8th_Sem_Proj\\Dataset\\8th_Sem_Proj\\With_YoloV5\\yolov5\\runs\\train\\exp9\\weights\\best.pt --img 416 --conf 0.25 --source D:\\8th_Sem_Proj\\Dataset\\8th_Sem_Proj\\With_YoloV5\\yolov5\\runs\\train\\exp9\\test "
   ]
  }
 ],
 "metadata": {
  "interpreter": {
   "hash": "bea483bf8ae1627cd4894a8212a71ee4fa1a93bbc380f3479d519f262a8fae87"
  },
  "kernelspec": {
   "display_name": "Python 3.8.13 ('rover')",
   "language": "python",
   "name": "python3"
  },
  "language_info": {
   "codemirror_mode": {
    "name": "ipython",
    "version": 3
   },
   "file_extension": ".py",
   "mimetype": "text/x-python",
   "name": "python",
   "nbconvert_exporter": "python",
   "pygments_lexer": "ipython3",
   "version": "3.8.5"
  },
  "orig_nbformat": 4
 },
 "nbformat": 4,
 "nbformat_minor": 2
}
