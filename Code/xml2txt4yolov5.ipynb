{
 "cells": [
  {
   "cell_type": "code",
   "execution_count": 1,
   "metadata": {},
   "outputs": [],
   "source": [
    "import xml.etree.ElementTree as Xet\n",
    "import matplotlib.pyplot as plt\n",
    "import cv2\n",
    "import os\n",
    "import glob"
   ]
  },
  {
   "cell_type": "code",
   "execution_count": 7,
   "metadata": {},
   "outputs": [],
   "source": [
    "source_path = r'D:\\8th_Sem_Proj\\Dataset\\8th_Sem_Proj'\n",
    "file_path = source_path + r'\\train\\Annotations_?**\\*.xml'\n",
    "row = []\n",
    "classes = {'Early_Blight':0,'Healthy':1,'mold_leaf':2}\n",
    "distribution = [0, 0, 0]\n",
    "x=0\n",
    "for i in glob.iglob(file_path,recursive=True):\n",
    "    xmlparse = Xet.parse(i)\n",
    "    root = xmlparse.getroot()\n",
    "    name = root.find('filename').text\n",
    "    name = name.split('.')[:-1]\n",
    "    name = '.'.join(name)\n",
    "    img_path = root.find('path').text\n",
    "    img_path = img_path.split('8th_Sem_Proj')[-1]\n",
    "    img_path = source_path + img_path\n",
    "    img = cv2.imread(img_path)\n",
    "    img_height, img_width, n = img.shape\n",
    "    data = []\n",
    "    # <class> <x-center> <y-center> <width> <height>\n",
    "    # ex: '0 0.4563 0.6765 0.444 0.7876'\n",
    "    # width    W = (xmax-xmin)/2\n",
    "    # height   H = (ymax-ymin)/2\n",
    "    # x-center X = xmin + w\n",
    "    # y-center Y = ymin + h\n",
    "\n",
    "    for i in root.findall('object'):\n",
    "        label = i.find('name').text\n",
    "        l_class = classes[label]\n",
    "        for j in i.findall('bndbox'):\n",
    "            xmin = int(j.find('xmin').text)\n",
    "            ymin = int(j.find('ymin').text)\n",
    "            xmax = int(j.find('xmax').text)\n",
    "            ymax = int(j.find('ymax').text)\n",
    "\n",
    "            W = ((xmax-xmin)/2)/img_width\n",
    "            H = ((ymax-ymin)/2)/img_height\n",
    "            X = (xmin +W)/img_width\n",
    "            Y = (ymin + H)/img_height\n",
    "            # divide by width and height to normalize in range [0,1]\n",
    "            string = f'{l_class} {X} {Y} {W} {H}\\n' # <class> <x-center> <y-center> <width> <height>\n",
    "            data.append(string)\n",
    "    \n",
    "    distribution[l_class]+=1\n",
    "    label_path = os.path.join(source_path,'label_train',name+'.txt')\n",
    "    file = open(label_path,'w')\n",
    "    file.writelines(data)\n",
    "    file.close()\n",
    "    #file = open(label_path,'r')\n",
    "    #print(file.read())\n"
   ]
  },
  {
   "cell_type": "code",
   "execution_count": 8,
   "metadata": {},
   "outputs": [
    {
     "data": {
      "image/png": "[encoded data removed]",
      "text/plain": [
       "<Figure size 720x360 with 1 Axes>"
      ]
     },
     "metadata": {
      "needs_background": "light"
     },
     "output_type": "display_data"
    }
   ],
   "source": [
    "fig = plt.figure(figsize = (10, 5))\n",
    " \n",
    "# creating the bar plot\n",
    "plt.bar(classes.keys(), distribution, color ='maroon',\n",
    "        width = 0.4)\n",
    " \n",
    "plt.xlabel(\"Labels\")\n",
    "plt.ylabel(\"No. of samples\")\n",
    "plt.title(\"Distribution\")\n",
    "plt.show()"
   ]
  }
 ],
 "metadata": {
  "interpreter": {
   "hash": "bea483bf8ae1627cd4894a8212a71ee4fa1a93bbc380f3479d519f262a8fae87"
  },
  "kernelspec": {
   "display_name": "Python 3.8.13 ('rover')",
   "language": "python",
   "name": "python3"
  },
  "language_info": {
   "codemirror_mode": {
    "name": "ipython",
    "version": 3
   },
   "file_extension": ".py",
   "mimetype": "text/x-python",
   "name": "python",
   "nbconvert_exporter": "python",
   "pygments_lexer": "ipython3",
   "version": "3.8.5"
  },
  "orig_nbformat": 4
 },
 "nbformat": 4,
 "nbformat_minor": 2
}
