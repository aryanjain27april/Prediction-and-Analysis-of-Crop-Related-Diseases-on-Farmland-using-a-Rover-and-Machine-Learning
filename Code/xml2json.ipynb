{
 "cells": [
  {
   "cell_type": "code",
   "execution_count": 2,
   "metadata": {},
   "outputs": [],
   "source": [
    "# Program to convert an xml\n",
    "# file to json file\n",
    "\n",
    "# import json module and xmltodict\n",
    "# module provided by python\n",
    "import json\n",
    "import glob\n",
    "import xmltodict"
   ]
  },
  {
   "cell_type": "code",
   "execution_count": 5,
   "metadata": {},
   "outputs": [],
   "source": [
    "\n",
    "# open the input xml file and read\n",
    "# data in form of python dictionary\n",
    "# using xmltodict module\n",
    "file_path = 'D://8th_Sem_Proj//Dataset//8th_Sem_Proj//Dataset//train//Annotations_?**//*.xml'\n",
    "for i in glob.iglob(file_path,recursive=True):\n",
    "\twith open(i) as xml_file:\n",
    "\t\t\n",
    "\t\tdata_dict = xmltodict.parse(xml_file.read())\n",
    "\t\txml_file.close()\n",
    "\t\t\n",
    "\t\t# generate the object using json.dumps()\n",
    "\t\t# corresponding to json data\n",
    "\t\t\n",
    "\t\tjson_data = json.dumps(data_dict)\n",
    "\t\t\n",
    "\t\t# Write the json data to output\n",
    "\t\t# json file\n",
    "\t\twith open(\"data.json\", \"w\") as json_file:\n",
    "\t\t\tjson_file.write(json_data)\n",
    "\t\t\tjson_file.close()\n",
    "\t\t\n",
    "\tbreak\n"
   ]
  },
  {
   "cell_type": "code",
   "execution_count": 16,
   "metadata": {},
   "outputs": [
    {
     "data": {
      "text/plain": [
       "'100_46341.jpg'"
      ]
     },
     "execution_count": 16,
     "metadata": {},
     "output_type": "execute_result"
    }
   ],
   "source": [
    "data_dict['annotation']['filename']"
   ]
  }
 ],
 "metadata": {
  "interpreter": {
   "hash": "613fe122287fdb1a4092b1ec324ab5e18de9ec977608057b646301948d1df577"
  },
  "kernelspec": {
   "display_name": "Python 3.8.8 ('base')",
   "language": "python",
   "name": "python3"
  },
  "language_info": {
   "codemirror_mode": {
    "name": "ipython",
    "version": 3
   },
   "file_extension": ".py",
   "mimetype": "text/x-python",
   "name": "python",
   "nbconvert_exporter": "python",
   "pygments_lexer": "ipython3",
   "version": "3.8.8"
  },
  "orig_nbformat": 4
 },
 "nbformat": 4,
 "nbformat_minor": 2
}
