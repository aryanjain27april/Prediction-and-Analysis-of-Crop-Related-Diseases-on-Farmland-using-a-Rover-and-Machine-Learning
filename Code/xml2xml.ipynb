{
 "cells": [
  {
   "cell_type": "code",
   "execution_count": 9,
   "metadata": {},
   "outputs": [],
   "source": [
    "import glob\n",
    "import xmltodict\n",
    "from dict2xml import dict2xml\n",
    "import json\n",
    "from collections import OrderedDict"
   ]
  },
  {
   "cell_type": "code",
   "execution_count": 31,
   "metadata": {},
   "outputs": [],
   "source": [
    "dir_path = 'D://8th_Sem_Proj//Dataset//8th_Sem_Proj//'\n",
    "\n",
    "for file in ['train','test']:\n",
    "\n",
    "\tfile_path = f'{dir_path}//{file}//Annotations_?**//*.xml'\n",
    "\tdata=OrderedDict()\n",
    "\n",
    "\tfor i in glob.iglob(file_path,recursive=True):\n",
    "\t\twith open(i) as xml_file:\n",
    "\t\t\tdata_dict = xmltodict.parse(xml_file.read())\n",
    "\t\t\txml_file.close()\n",
    "\t\tdata[data_dict['annotation']['filename']] = data_dict['annotation']\n",
    "\n",
    "\tjson_data = json.dumps(data)\n",
    "\twith open(f\"{dir_path}//Dataset//{file}//{file}.json\", \"w\") as json_file:\n",
    "\t\tjson_file.write(json_data)\n",
    "\t\tjson_file.close()"
   ]
  }
 ],
 "metadata": {
  "interpreter": {
   "hash": "613fe122287fdb1a4092b1ec324ab5e18de9ec977608057b646301948d1df577"
  },
  "kernelspec": {
   "display_name": "Python 3.8.8 ('base')",
   "language": "python",
   "name": "python3"
  },
  "language_info": {
   "codemirror_mode": {
    "name": "ipython",
    "version": 3
   },
   "file_extension": ".py",
   "mimetype": "text/x-python",
   "name": "python",
   "nbconvert_exporter": "python",
   "pygments_lexer": "ipython3",
   "version": "3.8.8"
  },
  "orig_nbformat": 4
 },
 "nbformat": 4,
 "nbformat_minor": 2
}
